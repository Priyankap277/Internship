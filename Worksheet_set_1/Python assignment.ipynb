{
 "cells": [
  {
   "cell_type": "code",
   "execution_count": 12,
   "id": "da230285",
   "metadata": {},
   "outputs": [
    {
     "name": "stdout",
     "output_type": "stream",
     "text": [
      "Enter variable:4\n",
      "factorial of variable: 24\n"
     ]
    }
   ],
   "source": [
    "n= int(input(\"Enter variable:\"))\n",
    "fact=1\n",
    "if n>=1:\n",
    "    for i in range (1, n+1):\n",
    "        fact=fact*i\n",
    "    \n",
    "print(\"factorial of variable:\", fact)\n",
    "    "
   ]
  },
  {
   "cell_type": "code",
   "execution_count": 55,
   "id": "b66e9103",
   "metadata": {},
   "outputs": [
    {
     "name": "stdout",
     "output_type": "stream",
     "text": [
      "Enter variable:45\n",
      "45 is a composite number.\n"
     ]
    }
   ],
   "source": [
    "def isPrime(n):\n",
    "    primeNumber = True\n",
    "    if n > 1:\n",
    "        for i in range(2, int(n/2)+1):\n",
    "            if (n % i) == 0:\n",
    "               primeNumber = False\n",
    "    else:\n",
    "        primeNumber = False\n",
    "    return primeNumber    \n",
    "        \n",
    "n = int(input(\"Enter variable:\"))\n",
    "if isPrime(n):\n",
    "    print(n , \"is Prime number.\")\n",
    "else: \n",
    "    print(n, \"is a composite number.\")"
   ]
  },
  {
   "cell_type": "code",
   "execution_count": 51,
   "id": "b9551e8c",
   "metadata": {},
   "outputs": [
    {
     "name": "stdout",
     "output_type": "stream",
     "text": [
      "Enter a string:madam\n",
      "madam is a palindrome\n"
     ]
    }
   ],
   "source": [
    "word = input(\"Enter a string:\")\n",
    "def isPalindrome(s):\n",
    "    return s == s[::-1]\n",
    "if isPalindrome(word):\n",
    "    print(word, \"is a palindrome\")\n",
    "else:\n",
    "    print(word, \"is not a palindrome\")"
   ]
  },
  {
   "cell_type": "code",
   "execution_count": 53,
   "id": "8aa93432",
   "metadata": {},
   "outputs": [
    {
     "name": "stdout",
     "output_type": "stream",
     "text": [
      "Enter the length of the first side: 12\n",
      "Enter the length of the second side: 5\n",
      "The length of the third side is: 13.0\n"
     ]
    }
   ],
   "source": [
    "def find_third_side(side1, side2):\n",
    "    side3 = (side1**2 + side2**2)**0.5\n",
    "    return side3\n",
    "\n",
    "side1 = float(input(\"Enter the length of the first side: \"))\n",
    "side2 = float(input(\"Enter the length of the second side: \"))\n",
    "third_side = find_third_side(side1, side2)\n",
    "\n",
    "print(f\"The length of the third side is: {third_side}\")"
   ]
  },
  {
   "cell_type": "code",
   "execution_count": 56,
   "id": "d7cc1a68",
   "metadata": {},
   "outputs": [
    {
     "name": "stdout",
     "output_type": "stream",
     "text": [
      "Count of all characters :\n",
      " {'p': 1, 'y': 1, 't': 2, 'h': 1, 'o': 1, 'n': 2, 's': 1, 'r': 1, 'i': 1, 'g': 1}\n"
     ]
    }
   ],
   "source": [
    "test_str = \"pythonstring\"\n",
    "all_freq = {}\n",
    " \n",
    "for i in test_str:\n",
    "    if i in all_freq:\n",
    "        all_freq[i] += 1\n",
    "    else:\n",
    "        all_freq[i] = 1\n",
    "\n",
    "print(\"Count of all characters :\\n \"\n",
    "      + str(all_freq))"
   ]
  },
  {
   "cell_type": "code",
   "execution_count": null,
   "id": "9619e343",
   "metadata": {},
   "outputs": [],
   "source": []
  },
  {
   "cell_type": "code",
   "execution_count": null,
   "id": "99ddf5d2",
   "metadata": {},
   "outputs": [],
   "source": []
  }
 ],
 "metadata": {
  "kernelspec": {
   "display_name": "Python 3 (ipykernel)",
   "language": "python",
   "name": "python3"
  },
  "language_info": {
   "codemirror_mode": {
    "name": "ipython",
    "version": 3
   },
   "file_extension": ".py",
   "mimetype": "text/x-python",
   "name": "python",
   "nbconvert_exporter": "python",
   "pygments_lexer": "ipython3",
   "version": "3.10.9"
  }
 },
 "nbformat": 4,
 "nbformat_minor": 5
}
